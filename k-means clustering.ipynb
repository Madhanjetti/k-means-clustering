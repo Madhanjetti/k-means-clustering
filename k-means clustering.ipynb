{
 "cells": [
  {
   "cell_type": "markdown",
   "id": "bcfab9b5",
   "metadata": {},
   "source": [
    "#Aim: Given the following data, which specify classifications for nine combinationsof VAR1 and VAR2 predict a classification for a case where VAR1=0.906and VAR2=0.606, using the result of k-means clustering with 3 means (i.e., 3centroids)\n",
    "\n",
    "#=================================\n",
    "#Explanation:\n",
    "#=================================\n",
    "#===> To run this program you need to install the sklearn Module\n",
    "\n",
    "#===> Open Command propmt and then execute the following command to install sklearn Module\n",
    "\n",
    "#---> pip install scikit-learn\n",
    "\n",
    "#In this program, we are going to use the following data\n",
    "\n",
    "VAR1 VAR2 CLASS\n",
    "1.713 1.586 0\n",
    "0.180 1.786 1\n",
    "0.353 1.240 1\n",
    "0.940 1.566 0\n",
    "1.486 0.759 1\n",
    "1.266 1.106 0\n",
    "1.540 0.419 1\n",
    "0.459 1.799 1\n",
    "0.773 0.186 1\n",
    "\n",
    "And, we need apply k-means clustering with 3 means (i.e., 3 centroids)\n",
    "\n",
    "\n",
    "Finally, you need to predict the class for the VAR1=0.906 and VAR2=0.606"
   ]
  },
  {
   "cell_type": "code",
   "execution_count": 1,
   "id": "ad7bb312",
   "metadata": {},
   "outputs": [
    {
     "name": "stderr",
     "output_type": "stream",
     "text": [
      "C:\\Users\\Acer\\anaconda3\\Lib\\site-packages\\sklearn\\cluster\\_kmeans.py:870: FutureWarning: The default value of `n_init` will change from 10 to 'auto' in 1.4. Set the value of `n_init` explicitly to suppress the warning\n",
      "  warnings.warn(\n",
      "C:\\Users\\Acer\\anaconda3\\Lib\\site-packages\\sklearn\\cluster\\_kmeans.py:1382: UserWarning: KMeans is known to have a memory leak on Windows with MKL, when there are less chunks than available threads. You can avoid it by setting the environment variable OMP_NUM_THREADS=1.\n",
      "  warnings.warn(\n"
     ]
    },
    {
     "name": "stdout",
     "output_type": "stream",
     "text": [
      "The input data is \n",
      "VAR1 \t VAR2 \t CLASS\n",
      "1.713 \t 1.586 \t 0\n",
      "0.18 \t 1.786 \t 1\n",
      "0.353 \t 1.24 \t 1\n",
      "0.94 \t 1.566 \t 0\n",
      "1.486 \t 0.759 \t 1\n",
      "1.266 \t 1.106 \t 0\n",
      "1.54 \t 0.419 \t 1\n",
      "0.459 \t 1.799 \t 1\n",
      "0.773 \t 0.186 \t 1\n",
      "====================\n",
      "The Test data to predict \n",
      "Enter Value for VAR1 :0.906\n",
      "Enter Value for VAR2 :0.606\n",
      "====================\n",
      "The predicted Class is :  [0]\n"
     ]
    }
   ],
   "source": [
    "from sklearn.cluster import KMeans\n",
    "import numpy as np\n",
    "X = np.array([[1.713,1.586], [0.180,1.786], [0.353,1.240],\n",
    "[0.940,1.566], [1.486,0.759], [1.266,1.106],[1.540,0.419],[0.459,1.799],[0.773,0.186]])\n",
    "y=np.array([0,1,1,0,1,0,1,1,1])\n",
    "kmeans = KMeans(n_clusters=3, random_state=0).fit(X,y)\n",
    "print(\"The input data is \")\n",
    "print(\"VAR1 \\t VAR2 \\t CLASS\")\n",
    "i=0\n",
    "for val in X:\n",
    "\tprint(val[0],\"\\t\",val[1],\"\\t\",y[i])\n",
    "\ti+=1\n",
    "print(\"=\"*20)\n",
    "# To get test data from the user\n",
    "print(\"The Test data to predict \")\n",
    "test_data = []\n",
    "VAR1 = float(input(\"Enter Value for VAR1 :\"))\n",
    "VAR2 = float(input(\"Enter Value for VAR2 :\"))\n",
    "test_data.append(VAR1)\n",
    "test_data.append(VAR2)\n",
    "print(\"=\"*20)\n",
    "print(\"The predicted Class is : \",kmeans.predict([test_data]))"
   ]
  },
  {
   "cell_type": "code",
   "execution_count": null,
   "id": "6b1c57ae",
   "metadata": {},
   "outputs": [],
   "source": []
  }
 ],
 "metadata": {
  "kernelspec": {
   "display_name": "Python 3 (ipykernel)",
   "language": "python",
   "name": "python3"
  },
  "language_info": {
   "codemirror_mode": {
    "name": "ipython",
    "version": 3
   },
   "file_extension": ".py",
   "mimetype": "text/x-python",
   "name": "python",
   "nbconvert_exporter": "python",
   "pygments_lexer": "ipython3",
   "version": "3.11.3"
  }
 },
 "nbformat": 4,
 "nbformat_minor": 5
}
